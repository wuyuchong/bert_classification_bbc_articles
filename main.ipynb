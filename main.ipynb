{
 "cells": [
  {
   "cell_type": "markdown",
   "metadata": {
    "id": "IZ6SNYq_tVVC",
    "tags": []
   },
   "source": [
    "# BBC 文本分类和模型比较\n",
    "\n",
    "**摘要：**我们使用 BBC 数据集进行文本分类。在文本预处理阶段，我们尝试使用词编码和词向量的方式，在训练阶段，我们构建了 DNN、LSTM、BERT 等多个深度学习模型进行训练，并进行了模型比较，最高达到了 99% 的准确率。最后，为了进一步实现在超大文本集上进行训练，我们使用基于 Spark 的分布式算法在集群服务器上进行训练测试。\n",
    "\n",
    "\n",
    "\n",
    "| 模型         | 计算配置 | 用时 | 准确率 | 可拓展性 |\n",
    "| ----------- | ----------- | ------ | ------ | --- |\n",
    "| Word2Vec + LSTM  |阿里云服务器 Xeon 8 核 CPU 32G 内存| 30 分钟 | 80% | 低-单机 |\n",
    "| tokenize + DNN  |阿里云服务器 Xeon 8 核 CPU 32G 内存| 1  分钟 | 97% | 低-单机 |\n",
    "| bert - 小型       |阿里云服务器 Xeon 8 核 CPU 32G 内存| 10  分钟 | 97% | 低-单机 |\n",
    "| bert - AL        |阿里云服务器 Xeon 8 核 CPU 32G 内存| 15  分钟 | 98% | 低-单机 |\n",
    "| bert - 标准      |阿里云服务器 Xeon 8 核 CPU 32G 内存| 30  分钟 | **99%** | 低-单机 |\n",
    "| spark - 回归 - 网格搜索调参  |中央财经大学大数据高性能分布式集群 | 5 分钟 | 96% | 高-集群 |\n",
    "| spark - 决策树 - 网格搜索调参  |中央财经大学大数据高性能分布式集群 | 20 分钟 | 97% | 高-集群 |\n",
    "|spark - 梯度助推树 - 网格搜索调参|中央财经大学大数据高性能分布式集群 | 15 分钟 | 98% | 高-集群 |\n",
    "| spark - 随机森林 - 网格搜索调参 |中央财经大学大数据高性能分布式集群 | 30 分钟 | 97% | 高-集群 |\n",
    "\n",
    "\n",
    "> 分布式模型在该小型数据集上没有优势，进行此项的意义在于对大型文本数据集可拓展性的技术储备，仅有在文本量级超过单机可承载上限时，分布式计算才具备意义\n",
    "\n",
    "> 注意：请勿在低配置计算机上运行该笔记本"
   ]
  },
  {
   "cell_type": "markdown",
   "metadata": {
    "id": "SCjmX4zTCkRK"
   },
   "source": [
    "## 环境安装及设置\n",
    "\n",
    "请预先安装以下模块：\n",
    "\n",
    "- tensorflow (2.0以上版本）\n",
    "- tensorflow-text（用于文字预处理）\n",
    "- tf-models-official"
   ]
  },
  {
   "cell_type": "code",
   "execution_count": 1,
   "metadata": {
    "id": "_XgTpm9ZxoN9",
    "tags": []
   },
   "outputs": [
    {
     "name": "stderr",
     "output_type": "stream",
     "text": [
      "2022-01-11 23:38:51.631323: W tensorflow/stream_executor/platform/default/dso_loader.cc:64] Could not load dynamic library 'libcudart.so.11.0'; dlerror: libcudart.so.11.0: cannot open shared object file: No such file or directory\n",
      "2022-01-11 23:38:51.631382: I tensorflow/stream_executor/cuda/cudart_stub.cc:29] Ignore above cudart dlerror if you do not have a GPU set up on your machine.\n"
     ]
    }
   ],
   "source": [
    "import os\n",
    "import pydot\n",
    "import shutil\n",
    "import itertools\n",
    "import numpy as np\n",
    "import pandas as pd\n",
    "import tensorflow as tf\n",
    "import tensorflow_hub as hub\n",
    "import tensorflow_text as text\n",
    "import matplotlib.pyplot as plt\n",
    "from official.nlp import optimization\n",
    "from sklearn.metrics import confusion_matrix\n",
    "from sklearn.preprocessing import LabelEncoder\n",
    "from sklearn.model_selection import train_test_split\n",
    "\n",
    "tf.get_logger().setLevel('ERROR')"
   ]
  },
  {
   "cell_type": "markdown",
   "metadata": {},
   "source": [
    "## 数据处理\n",
    "\n",
    "### 标签处理\n",
    "\n",
    "我们将分类列由类别名称转为数字"
   ]
  },
  {
   "cell_type": "code",
   "execution_count": 2,
   "metadata": {
    "id": "6IwI_2bcIeX8",
    "tags": []
   },
   "outputs": [
    {
     "data": {
      "text/plain": [
       "array(['business', 'entertainment', 'politics', 'sport', 'tech'],\n",
       "      dtype=object)"
      ]
     },
     "execution_count": 2,
     "metadata": {},
     "output_type": "execute_result"
    }
   ],
   "source": [
    "# ------------------> 加载数据\n",
    "dat = pd.read_csv('./data/bbc-text.csv')\n",
    "\n",
    "# ------------------> 标签处理\n",
    "encoder = LabelEncoder()\n",
    "encoder.fit(dat['category'])\n",
    "y = encoder.transform(dat['category'])\n",
    "text_labels = encoder.classes_\n",
    "text_labels"
   ]
  },
  {
   "cell_type": "markdown",
   "metadata": {},
   "source": [
    "### 数据集划分\n",
    "\n",
    "划分 20% 的测试集，再从训练集中划分 20% 的验证集\n",
    "\n"
   ]
  },
  {
   "cell_type": "code",
   "execution_count": 3,
   "metadata": {
    "tags": []
   },
   "outputs": [],
   "source": [
    "X_train, X_test, y_train, y_test = train_test_split(\n",
    "    dat['text'], y, test_size=0.2, random_state=1)\n",
    "X_train, X_val, y_train, y_val = train_test_split(\n",
    "    X_train, y_train, test_size=0.2, random_state=1)"
   ]
  },
  {
   "cell_type": "markdown",
   "metadata": {},
   "source": [
    "### 数据集格式转换\n",
    "\n",
    "我们将数据集转换为 `tf.data.Dataset` 的格式，使用自动的缓冲区大小，使用 32 的 `batch size`\n",
    "\n",
    "* batch size 为一次训练所抓取的数据样本数量，其大小与模型的收敛速度和随机梯度噪音有关。\n",
    "* 分批训练相对于直接对全训练集训练的好处在于：提高了每次迭代的训练速度、利于多线程训练、使得梯度下降的方向更加准确\n",
    "* batch size 的大小与模型的收敛速度和随机梯度噪音有关\n",
    "* 当 batch size 过小时，在一定的迭代次数下，模型来不及收敛\n",
    "* 当 batch size 过大时，一方面容易出现内存紧缺，另一方面模型的泛化能力会变差"
   ]
  },
  {
   "cell_type": "code",
   "execution_count": 4,
   "metadata": {},
   "outputs": [
    {
     "name": "stderr",
     "output_type": "stream",
     "text": [
      "2022-01-11 23:38:55.365829: W tensorflow/stream_executor/platform/default/dso_loader.cc:64] Could not load dynamic library 'libcuda.so.1'; dlerror: libcuda.so.1: cannot open shared object file: No such file or directory\n",
      "2022-01-11 23:38:55.365880: W tensorflow/stream_executor/cuda/cuda_driver.cc:269] failed call to cuInit: UNKNOWN ERROR (303)\n",
      "2022-01-11 23:38:55.365916: I tensorflow/stream_executor/cuda/cuda_diagnostics.cc:156] kernel driver does not appear to be running on this host (nlp): /proc/driver/nvidia/version does not exist\n",
      "2022-01-11 23:38:55.366350: I tensorflow/core/platform/cpu_feature_guard.cc:151] This TensorFlow binary is optimized with oneAPI Deep Neural Network Library (oneDNN) to use the following CPU instructions in performance-critical operations:  AVX2 AVX512F FMA\n",
      "To enable them in other operations, rebuild TensorFlow with the appropriate compiler flags.\n"
     ]
    }
   ],
   "source": [
    "AUTOTUNE = tf.data.AUTOTUNE\n",
    "batch_size = 32\n",
    "\n",
    "raw_train_ds = tf.data.Dataset.from_tensor_slices((X_train.values, y_train))\n",
    "raw_val_ds = tf.data.Dataset.from_tensor_slices((X_val.values, y_val))\n",
    "raw_test_ds = tf.data.Dataset.from_tensor_slices((X_test.values, y_test))\n",
    "\n",
    "train_ds = raw_train_ds.cache().prefetch(buffer_size=AUTOTUNE).batch(batch_size)\n",
    "val_ds = raw_val_ds.cache().prefetch(buffer_size=AUTOTUNE).batch(batch_size)\n",
    "test_ds = raw_test_ds.cache().prefetch(buffer_size=AUTOTUNE).batch(batch_size)"
   ]
  },
  {
   "cell_type": "markdown",
   "metadata": {
    "id": "HGm10A5HRGXp"
   },
   "source": [
    "我们对数据集进行预览"
   ]
  },
  {
   "cell_type": "code",
   "execution_count": 5,
   "metadata": {
    "id": "JuxDkcvVIoev",
    "tags": []
   },
   "outputs": [
    {
     "name": "stdout",
     "output_type": "stream",
     "text": [
      "Review: b'itunes now selling band aid song ipod owners can now download the band aid single from itunes after apple reached agreement with the charity.  apple had been unwilling to raise the cost of the single in line with other download services  said band aid. but the single is now on sale for 79p - the usual cost of a song from itunes - with apple donating a further 70p to the charity for each song downloaded. a copy of the original 1984 song is also available for download at 79p - with all proceeds going to the charity.  more than 72 000 copies of the new band aid single were sold on its first day of release on monday  according to sales figures. the track has become the fastest-selling single of the year so far  shifting more copies than the rest of the top 30 combined  hmv claimed. dido  robbie williams and chris martin are among those featured on the new version of do they know it s christmas   which is raising money to fight hunger in africa. if the track sold 500 000 copies  more than \\xc2\\xa31m would be raised for charity. the cd is being sold for \\xc2\\xa33.99  with hmv  virgin and woolworths all donating their profits.'\n",
      "Label : 1 (entertainment)\n",
      "Review: b'mps criticise child access system divorced parents seeking access to their children are often disadvantaged by the legal system  mps have said.  the constitutional affairs select committee said parents with custody could exploit delays in the system to stop former partners gaining access. courts should be used as a last resort  but where they are  their orders should be enforced more rigorously  mps said. but they rejected the claim made by some campaign groups that there should be a legal presumption of equal access.  currently the presumption is that the interests of the child are paramount.  an arbitrary  template  imposed on all families  whatever the needs of the child  would relegate the welfare of individual children to a secondary position   the mps said.  they said the law should be changed to require family courts specifically to take account of the importance of sustaining the relationship between the child and the non-resident parent in contested cases. this would  reassert the rights of non-resident parents to contact with their children  as well as the rights of children to contact with both their parents  while maintaining sufficient flexibility to cope with issues of safety   they said. delays in court hearings and the inability to effectively enforce court orders allowed  a new  status quo  arrangement for the children to become established by default   they said.   although the courts rigorously avoid conscious bias  there are considerable grounds for accepting that non-resident parents are frequently disadvantaged by the system as it is administered at present.  given the strong animosity between the parties which is common in contested family cases  we find it hard to believe that tactical delay is not sometimes used to the advantage of resident parents.  committee chairman alan beith said the five-month inquiry had been a  complex and emotive  one.  at the moment  far too many contact and residency cases are being dealt with by the courts when they could be better resolved through professional mediation and negotiation   he said.  this situation has to change. the court system should only be used as a last resort  where mediation and negotiation have completely broken down or where issues of abuse or domestic violence need to be dealt with.  this will help to reduce delays and improve the lives of many children across the country.'\n",
      "Label : 2 (politics)\n"
     ]
    },
    {
     "name": "stderr",
     "output_type": "stream",
     "text": [
      "2022-01-11 23:38:55.406115: W tensorflow/core/kernels/data/cache_dataset_ops.cc:768] The calling iterator did not fully read the dataset being cached. In order to avoid unexpected truncation of the dataset, the partially cached contents of the dataset  will be discarded. This can happen if you have an input pipeline similar to `dataset.cache().take(k).repeat()`. You should use `dataset.take(k).cache().repeat()` instead.\n"
     ]
    }
   ],
   "source": [
    "for text_batch, label_batch in train_ds.take(1):\n",
    "  for i in range(2):\n",
    "    print(f'Review: {text_batch.numpy()[i]}')\n",
    "    label = label_batch.numpy()[i]\n",
    "    print(f'Label : {label} ({text_labels[label]})')"
   ]
  },
  {
   "cell_type": "markdown",
   "metadata": {},
   "source": [
    "# Word2Vec + LSTM"
   ]
  },
  {
   "cell_type": "markdown",
   "metadata": {},
   "source": [
    "## 文本预处理\n",
    "\n",
    "我们建立词字典进行词编码，字典的大小限制在 1000 词"
   ]
  },
  {
   "cell_type": "code",
   "execution_count": 6,
   "metadata": {},
   "outputs": [
    {
     "data": {
      "text/plain": [
       "array(['', '[UNK]', 'the', 'to', 'of', 'and', 'a', 'in', 'for', 's', 'is',\n",
       "       'that', 'it', 'on', 'said', 'was', 'he', 'be', 'with', 'has'],\n",
       "      dtype='<U13')"
      ]
     },
     "execution_count": 6,
     "metadata": {},
     "output_type": "execute_result"
    }
   ],
   "source": [
    "VOCAB_SIZE = 1000\n",
    "encoder = tf.keras.layers.TextVectorization(\n",
    "    max_tokens=VOCAB_SIZE)\n",
    "encoder.adapt(train_ds.map(lambda text, label: text))\n",
    "vocab = np.array(encoder.get_vocabulary())\n",
    "vocab[:20]"
   ]
  },
  {
   "cell_type": "markdown",
   "metadata": {},
   "source": [
    "编码的长度由所有文本中最长的文本决定"
   ]
  },
  {
   "cell_type": "code",
   "execution_count": 7,
   "metadata": {},
   "outputs": [
    {
     "data": {
      "text/plain": [
       "array([[  1,  75,   1, ...,   0,   0,   0],\n",
       "       [477,   1,   1, ...,   0,   0,   0],\n",
       "       [322, 332,   1, ...,   0,   0,   0]])"
      ]
     },
     "execution_count": 7,
     "metadata": {},
     "output_type": "execute_result"
    }
   ],
   "source": [
    "encoded_example = encoder(text_batch)[:3].numpy()\n",
    "encoded_example"
   ]
  },
  {
   "cell_type": "markdown",
   "metadata": {},
   "source": [
    "打印示例："
   ]
  },
  {
   "cell_type": "raw",
   "metadata": {
    "tags": []
   },
   "source": [
    "for n in range(3):\n",
    "  print(\"Original: \", text_batch[n].numpy())\n",
    "  print(\"Round-trip: \", \" \".join(vocab[encoded_example[n]]))\n",
    "  print()"
   ]
  },
  {
   "cell_type": "markdown",
   "metadata": {},
   "source": [
    "## 模型结构"
   ]
  },
  {
   "cell_type": "markdown",
   "metadata": {},
   "source": [
    "1. 第一层为 `Embedding` 层，我们使用 `word2vec` 方法将单词编码转换为词向量。这些词向量经过训练，对于意思相近的词，其向量夹角小。\n",
    "2. 第二层使用双向的长短期记忆层。长短期记忆网络层是一种特殊的循环神经网络层，它能够减轻长序列训练过程中的梯度消失和梯度爆炸问题，适合此处词向量长度较长的情况。它遍历序列中的每个元素作为输入，按照时间顺序传递输出。由于我们使用双向结构，最终结果由输入的前向和后向传递共同决定，这使得最前端的输入不必通过漫长的处理步数才能影响到最终结果，有效的提高了训练在文本中的均匀度。\n",
    "3. 第三层为全连接层，由于在多层神经网络中梯度容易在深层网络中变得极小，使得参数无法正常更新，所以我们使用 `RELU` 作为激活函数解决梯度消失问题。\n",
    "4. 第四层为输出维度为 5 的输出层，为了得到多分类的概率值，使用 `softmax` 函数将输出值压缩至 0 - 1 的范围内。"
   ]
  },
  {
   "cell_type": "code",
   "execution_count": 8,
   "metadata": {},
   "outputs": [],
   "source": [
    "model = tf.keras.Sequential([\n",
    "    encoder,\n",
    "    tf.keras.layers.Embedding(\n",
    "        input_dim=len(encoder.get_vocabulary()),\n",
    "        output_dim=64,\n",
    "        # Use masking to handle the variable sequence lengths\n",
    "        mask_zero=True),\n",
    "    tf.keras.layers.Bidirectional(tf.keras.layers.LSTM(64)),\n",
    "    tf.keras.layers.Dense(64, activation='relu'),\n",
    "    tf.keras.layers.Dense(5, activation='softmax', name='classifier')\n",
    "])\n",
    "model.compile(loss=tf.keras.losses.SparseCategoricalCrossentropy(from_logits=True),\n",
    "              optimizer=tf.keras.optimizers.Adam(1e-4),\n",
    "              metrics=['accuracy'])\n",
    "model.summary()"
   ]
  },
  {
   "cell_type": "code",
   "execution_count": 10,
   "metadata": {
    "tags": []
   },
   "outputs": [],
   "source": [
    "model.compile(loss=tf.keras.losses.SparseCategoricalCrossentropy(),\n",
    "              optimizer=tf.keras.optimizers.Adam(1e-4),\n",
    "              metrics=['accuracy'])"
   ]
  },
  {
   "cell_type": "markdown",
   "metadata": {
    "tags": []
   },
   "source": [
    "## 训练模型"
   ]
  },
  {
   "cell_type": "code",
   "execution_count": 11,
   "metadata": {
    "tags": []
   },
   "outputs": [
    {
     "name": "stdout",
     "output_type": "stream",
     "text": [
      "Epoch 1/30\n",
      "45/45 [==============================] - 51s 986ms/step - loss: 1.6084 - accuracy: 0.1826 - val_loss: 1.6053 - val_accuracy: 0.2247\n",
      "Epoch 2/30\n",
      "45/45 [==============================] - 39s 877ms/step - loss: 1.6039 - accuracy: 0.2949\n",
      "Epoch 3/30\n",
      "45/45 [==============================] - 37s 829ms/step - loss: 1.5967 - accuracy: 0.3357\n",
      "Epoch 4/30\n",
      "45/45 [==============================] - 37s 819ms/step - loss: 1.5773 - accuracy: 0.3055\n",
      "Epoch 5/30\n",
      "45/45 [==============================] - 35s 793ms/step - loss: 1.5295 - accuracy: 0.4417\n",
      "Epoch 6/30\n",
      "45/45 [==============================] - 36s 808ms/step - loss: 1.4455 - accuracy: 0.4621\n",
      "Epoch 7/30\n",
      "45/45 [==============================] - 37s 823ms/step - loss: 1.2456 - accuracy: 0.4684\n",
      "Epoch 8/30\n",
      "45/45 [==============================] - 40s 891ms/step - loss: 1.1147 - accuracy: 0.4965\n",
      "Epoch 9/30\n",
      "45/45 [==============================] - 40s 888ms/step - loss: 1.0414 - accuracy: 0.5147\n",
      "Epoch 10/30\n",
      "45/45 [==============================] - 40s 908ms/step - loss: 1.1438 - accuracy: 0.4909\n",
      "Epoch 11/30\n",
      "45/45 [==============================] - 44s 981ms/step - loss: 0.9434 - accuracy: 0.5885\n",
      "Epoch 12/30\n",
      "45/45 [==============================] - 45s 1s/step - loss: 1.0525 - accuracy: 0.5772\n",
      "Epoch 13/30\n",
      "45/45 [==============================] - 45s 1s/step - loss: 1.2838 - accuracy: 0.4572\n",
      "Epoch 14/30\n",
      "45/45 [==============================] - 37s 829ms/step - loss: 1.1268 - accuracy: 0.4874\n",
      "Epoch 15/30\n",
      "45/45 [==============================] - 36s 805ms/step - loss: 1.0592 - accuracy: 0.5407\n",
      "Epoch 16/30\n",
      "45/45 [==============================] - 36s 798ms/step - loss: 1.0030 - accuracy: 0.5962\n",
      "Epoch 17/30\n",
      "45/45 [==============================] - 36s 810ms/step - loss: 0.9131 - accuracy: 0.6910\n",
      "Epoch 18/30\n",
      "45/45 [==============================] - 37s 823ms/step - loss: 0.7999 - accuracy: 0.6664\n",
      "Epoch 19/30\n",
      "45/45 [==============================] - 39s 869ms/step - loss: 0.7443 - accuracy: 0.7374\n",
      "Epoch 20/30\n",
      "45/45 [==============================] - 37s 840ms/step - loss: 0.8200 - accuracy: 0.7205\n",
      "Epoch 21/30\n",
      "45/45 [==============================] - 37s 830ms/step - loss: 0.6906 - accuracy: 0.7781\n",
      "Epoch 22/30\n",
      "45/45 [==============================] - 38s 863ms/step - loss: 0.6469 - accuracy: 0.8006\n",
      "Epoch 23/30\n",
      "45/45 [==============================] - 39s 874ms/step - loss: 0.5726 - accuracy: 0.8020\n",
      "Epoch 24/30\n",
      "45/45 [==============================] - 40s 890ms/step - loss: 0.8427 - accuracy: 0.6805\n",
      "Epoch 25/30\n",
      "45/45 [==============================] - 41s 912ms/step - loss: 0.8718 - accuracy: 0.6692\n",
      "Epoch 26/30\n",
      "45/45 [==============================] - 37s 831ms/step - loss: 0.7128 - accuracy: 0.7282\n",
      "Epoch 27/30\n",
      "45/45 [==============================] - 36s 807ms/step - loss: 0.7597 - accuracy: 0.7676\n",
      "Epoch 28/30\n",
      "45/45 [==============================] - 37s 837ms/step - loss: 0.7188 - accuracy: 0.7872\n",
      "Epoch 29/30\n",
      "45/45 [==============================] - 34s 770ms/step - loss: 0.6242 - accuracy: 0.8413\n",
      "Epoch 30/30\n",
      "45/45 [==============================] - 35s 790ms/step - loss: 0.5973 - accuracy: 0.8518\n"
     ]
    }
   ],
   "source": [
    "history = model.fit(train_ds, epochs=30,\n",
    "                    validation_data=val_ds,\n",
    "                    validation_steps=30)"
   ]
  },
  {
   "cell_type": "code",
   "execution_count": 12,
   "metadata": {
    "tags": []
   },
   "outputs": [
    {
     "data": {
      "text/plain": [
       "(0.0, 1.6601696819067002)"
      ]
     },
     "execution_count": 12,
     "metadata": {},
     "output_type": "execute_result"
    },
    {
     "data": {
      "image/png": "[encoded data removed]",
      "text/plain": [
       "<Figure size 1152x576 with 2 Axes>"
      ]
     },
     "metadata": {
      "needs_background": "light"
     },
     "output_type": "display_data"
    }
   ],
   "source": [
    "def plot_graphs(history, metric):\n",
    "  plt.plot(history.history[metric])\n",
    "  plt.plot(history.history['val_'+metric], '')\n",
    "  plt.xlabel(\"Epochs\")\n",
    "  plt.ylabel(metric)\n",
    "  plt.legend([metric, 'val_'+metric])\n",
    "\n",
    "plt.figure(figsize=(16, 8))\n",
    "plt.subplot(1, 2, 1)\n",
    "plot_graphs(history, 'accuracy')\n",
    "plt.ylim(None, 1)\n",
    "plt.subplot(1, 2, 2)\n",
    "plot_graphs(history, 'loss')\n",
    "plt.ylim(0, None)"
   ]
  },
  {
   "cell_type": "markdown",
   "metadata": {},
   "source": [
    "## 模型评价"
   ]
  },
  {
   "cell_type": "code",
   "execution_count": 13,
   "metadata": {},
   "outputs": [
    {
     "name": "stdout",
     "output_type": "stream",
     "text": [
      "14/14 [==============================] - 2s 124ms/step - loss: 0.6922 - accuracy: 0.7528\n",
      "Test Loss: 0.6922494173049927\n",
      "Test Accuracy: 0.7528089880943298\n"
     ]
    }
   ],
   "source": [
    "test_loss, test_acc = model.evaluate(test_ds)\n",
    "\n",
    "print('Test Loss:', test_loss)\n",
    "print('Test Accuracy:', test_acc)"
   ]
  },
  {
   "cell_type": "markdown",
   "metadata": {},
   "source": [
    "# Tokenize + DNN + 防止过拟合"
   ]
  },
  {
   "cell_type": "markdown",
   "metadata": {},
   "source": [
    "## 文本预处理"
   ]
  },
  {
   "cell_type": "code",
   "execution_count": 14,
   "metadata": {},
   "outputs": [
    {
     "name": "stdout",
     "output_type": "stream",
     "text": [
      "x_train shape: (1424, 1000)\n",
      "x_test shape: (445, 1000)\n",
      "y_train shape: (1424, 5)\n",
      "y_test shape: (445, 5)\n"
     ]
    }
   ],
   "source": [
    "max_words = 1000\n",
    "tokenize = tf.keras.preprocessing.text.Tokenizer(num_words=max_words, \n",
    "                                              char_level=False)\n",
    "tokenize.fit_on_texts(X_train) # fit tokenizer to our training text data\n",
    "x_train_token = tokenize.texts_to_matrix(X_train)\n",
    "x_test_token = tokenize.texts_to_matrix(X_test)\n",
    "# Converts the labels to a one-hot representation\n",
    "num_classes = np.max(y_train) + 1\n",
    "y_train_token = tf.keras.utils.to_categorical(y_train, 5)\n",
    "y_test_token = tf.keras.utils.to_categorical(y_test, 5)\n",
    "print('x_train shape:', x_train_token.shape)\n",
    "print('x_test shape:', x_test_token.shape)\n",
    "print('y_train shape:', y_train_token.shape)\n",
    "print('y_test shape:', y_test_token.shape)"
   ]
  },
  {
   "cell_type": "markdown",
   "metadata": {},
   "source": [
    "## 模型结构"
   ]
  },
  {
   "cell_type": "markdown",
   "metadata": {},
   "source": [
    "经过多次调参，我们发现增大全连接层输出的维度能有效提升准确率。\n",
    "\n",
    "为了减轻训练过程中的过拟合现象，我们使用 dropout 方法来增强神经元的协同适应能力。我们在输入层和中间层分别加入 50% dropout ，即每个神经元有 50% 的概率被随机剔除。由于输出层是我们所需的结果，不使用 dropout 方法。"
   ]
  },
  {
   "cell_type": "code",
   "execution_count": 15,
   "metadata": {},
   "outputs": [],
   "source": [
    "batch_size = 32\n",
    "epochs = 10 \n",
    "drop_ratio = 0.5\n",
    "\n",
    "\n",
    "model = tf.keras.models.Sequential()\n",
    "model.add(tf.keras.layers.Dense(512, input_shape=(max_words,)))\n",
    "model.add(tf.keras.layers.Activation('relu'))\n",
    "model.add(tf.keras.layers.Dropout(drop_ratio))\n",
    "model.add(tf.keras.layers.Dense(512))\n",
    "model.add(tf.keras.layers.Activation('relu'))\n",
    "model.add(tf.keras.layers.Dropout(drop_ratio))\n",
    "model.add(tf.keras.layers.Dense(num_classes))\n",
    "model.add(tf.keras.layers.Activation('softmax'))\n",
    "\n",
    "\n",
    "model.compile(loss='categorical_crossentropy',\n",
    "              optimizer='adam',\n",
    "              metrics=['accuracy'])\n",
    "\n",
    "model.summary()"
   ]
  },
  {
   "cell_type": "markdown",
   "metadata": {},
   "source": [
    "## 训练模型\n",
    "\n",
    "正常情况下，随着训练迭代次数的增加，损失函数逐渐减小，对训练集的拟合越来越趋向于精细。然而过度精细的拟合容易导致模型的泛化能力变差，即当模型用于之前未曾训练过的数据时表现很差。为了观测这种情况，我们需要划分一部分数据与用于训练的数据隔开，这便是我们划分验证集的原因之一。\n",
    "\n",
    "为了防止模型过拟合，我们设定在验证集准确率连续三次迭代不再上升时提前终止训练。"
   ]
  },
  {
   "cell_type": "code",
   "execution_count": 17,
   "metadata": {},
   "outputs": [
    {
     "name": "stdout",
     "output_type": "stream",
     "text": [
      "Epoch 1/10\n",
      "41/41 [==============================] - 1s 7ms/step - loss: 0.9210 - accuracy: 0.6550 - val_loss: 0.1990 - val_accuracy: 0.9441\n",
      "Epoch 2/10\n",
      "41/41 [==============================] - 0s 4ms/step - loss: 0.2046 - accuracy: 0.9329 - val_loss: 0.1247 - val_accuracy: 0.9580\n",
      "Epoch 3/10\n",
      "41/41 [==============================] - 0s 4ms/step - loss: 0.0998 - accuracy: 0.9711 - val_loss: 0.0962 - val_accuracy: 0.9650\n",
      "Epoch 4/10\n",
      "41/41 [==============================] - 0s 4ms/step - loss: 0.0424 - accuracy: 0.9875 - val_loss: 0.0827 - val_accuracy: 0.9790\n",
      "Epoch 5/10\n",
      "41/41 [==============================] - 0s 4ms/step - loss: 0.0221 - accuracy: 0.9977 - val_loss: 0.0715 - val_accuracy: 0.9790\n",
      "Epoch 6/10\n",
      "41/41 [==============================] - 0s 4ms/step - loss: 0.0195 - accuracy: 0.9961 - val_loss: 0.0850 - val_accuracy: 0.9860\n",
      "Epoch 7/10\n",
      "41/41 [==============================] - 0s 4ms/step - loss: 0.0136 - accuracy: 0.9969 - val_loss: 0.0981 - val_accuracy: 0.9720\n",
      "Epoch 8/10\n",
      "41/41 [==============================] - 0s 4ms/step - loss: 0.0147 - accuracy: 0.9953 - val_loss: 0.1505 - val_accuracy: 0.9650\n",
      "Epoch 9/10\n",
      "41/41 [==============================] - 0s 4ms/step - loss: 0.0130 - accuracy: 0.9945 - val_loss: 0.0959 - val_accuracy: 0.9650\n",
      "Epoch 10/10\n",
      "41/41 [==============================] - 0s 4ms/step - loss: 0.0057 - accuracy: 0.9992 - val_loss: 0.0956 - val_accuracy: 0.9790\n"
     ]
    }
   ],
   "source": [
    "callback = tf.keras.callbacks.EarlyStopping(monitor='loss', patience=3)\n",
    "history = model.fit(x_train_token, y_train_token,\n",
    "                    batch_size=batch_size,\n",
    "                    epochs=epochs,\n",
    "                    verbose=1,\n",
    "                    callbacks=[callback],\n",
    "                    validation_split=0.1)"
   ]
  },
  {
   "cell_type": "markdown",
   "metadata": {},
   "source": [
    "## 模型评价"
   ]
  },
  {
   "cell_type": "code",
   "execution_count": 18,
   "metadata": {},
   "outputs": [
    {
     "name": "stdout",
     "output_type": "stream",
     "text": [
      "14/14 [==============================] - 0s 2ms/step - loss: 0.0678 - accuracy: 0.9775\n",
      "Test loss: 0.06777272373437881\n",
      "Test accuracy: 0.9775280952453613\n"
     ]
    }
   ],
   "source": [
    "score = model.evaluate(x_test_token, y_test_token,\n",
    "                       batch_size=batch_size, verbose=1)\n",
    "print('Test loss:', score[0])\n",
    "print('Test accuracy:', score[1])"
   ]
  },
  {
   "cell_type": "markdown",
   "metadata": {},
   "source": [
    "# BERT"
   ]
  },
  {
   "cell_type": "markdown",
   "metadata": {
    "id": "2PHBpLPuQdmK"
   },
   "source": [
    "## BERT 简介\n",
    "\n",
    "BERT 是一系列双向文字编码转换模型的总称，用来结合上下文语义计算每个词的词向量，在自然语言处理中被广泛使用。\n",
    "\n",
    "我们使用了前人在超大型语料库上训练的已有基础 BERT 模型，通过迁移学习的方式在我们的 BBC 文本数据集上进行微调。\n"
   ]
  },
  {
   "cell_type": "markdown",
   "metadata": {
    "id": "dX8FtlpGJRE6"
   },
   "source": [
    "## 加载预训练 BERT 模型\n",
    "\n",
    "我们首先使用了一个参数量较少的 small-BERT 模型用于测试，在通过测试后，为了进一步提升模型的准确度，我们使用 al-BERT 进行正式训练。\n",
    "\n",
    "> 在该笔记本中，我们仅展示 small-BERT 版本"
   ]
  },
  {
   "cell_type": "code",
   "execution_count": 19,
   "metadata": {},
   "outputs": [],
   "source": [
    "tfhub_handle_encoder = 'https://storage.googleapis.com/tfhub-modules/tensorflow/small_bert/bert_en_uncased_L-4_H-512_A-8/1.tar.gz'\n",
    "tfhub_handle_preprocess = 'https://storage.googleapis.com/tfhub-modules/tensorflow/bert_en_uncased_preprocess/3.tar.gz'"
   ]
  },
  {
   "cell_type": "markdown",
   "metadata": {
    "id": "7WrcxxTRDdHi"
   },
   "source": [
    "## 预处理模型\n",
    "\n",
    "在 BERT 的输入层，对于原始的文字输入，我们需要将其转换成为数值编码。每一个 BERT 模型都有其严格对应的预处理模型来提升转换效果。\n",
    "\n",
    "我们展示该预处理模型的输出结果，可以看到该预处理模型将输入的向量设为 128 的长度。"
   ]
  },
  {
   "cell_type": "code",
   "execution_count": 20,
   "metadata": {
    "id": "r9-zCzJpnuwS",
    "tags": []
   },
   "outputs": [
    {
     "name": "stdout",
     "output_type": "stream",
     "text": [
      "Keys       : ['input_type_ids', 'input_word_ids', 'input_mask']\n",
      "Shape      : (1, 128)\n",
      "Word Ids   : [ 101 1996 2034 6251 1012 1996 2117 6251 1012  102    0    0]\n",
      "Input Mask : [1 1 1 1 1 1 1 1 1 1 0 0]\n",
      "Type Ids   : [0 0 0 0 0 0 0 0 0 0 0 0]\n"
     ]
    }
   ],
   "source": [
    "bert_preprocess_model = hub.KerasLayer(tfhub_handle_preprocess)\n",
    "text_test = ['The first sentence. The second sentence.']\n",
    "text_preprocessed = bert_preprocess_model(text_test)\n",
    "\n",
    "print(f'Keys       : {list(text_preprocessed.keys())}')\n",
    "print(f'Shape      : {text_preprocessed[\"input_word_ids\"].shape}')\n",
    "print(f'Word Ids   : {text_preprocessed[\"input_word_ids\"][0, :12]}')\n",
    "print(f'Input Mask : {text_preprocessed[\"input_mask\"][0, :12]}')\n",
    "print(f'Type Ids   : {text_preprocessed[\"input_type_ids\"][0, :12]}')"
   ]
  },
  {
   "cell_type": "markdown",
   "metadata": {
    "id": "DKnLPSEmtp9i"
   },
   "source": [
    "## BERT 模型\n",
    "\n",
    "在进行迁移学习之前，我们先看预训练 BERT 模型的输出格式"
   ]
  },
  {
   "cell_type": "code",
   "execution_count": 21,
   "metadata": {
    "id": "_OoF9mebuSZc",
    "tags": []
   },
   "outputs": [
    {
     "name": "stdout",
     "output_type": "stream",
     "text": [
      "Pooled Outputs Shape:(1, 512)\n",
      "Pooled Outputs Values:[ 0.9992781   0.31525105 -0.25964963  0.55944437  0.00783995  0.9791419\n",
      "  0.9977204  -0.9327053  -0.84368324 -0.98138165 -0.4435     -0.9903451 ]\n",
      "Sequence Outputs Shape:(1, 128, 512)\n",
      "Sequence Outputs Values:[[ 0.4488559  -0.5851824  -0.6790177  ... -1.764277   -0.45622617\n",
      "   0.35492766]\n",
      " [ 0.24628739  0.08727125 -1.2822778  ... -2.0664744  -0.27477688\n",
      "  -0.2544793 ]\n",
      " [ 0.43256244  0.5654976  -0.79072297 ... -0.65594614 -0.22825454\n",
      "  -0.04055907]\n",
      " ...\n",
      " [ 1.1035298  -0.97563946  0.19795775 ... -1.2058376   0.00869213\n",
      "   0.69881415]\n",
      " [ 0.25988367 -0.39930332 -0.49941957 ... -1.1005459  -0.14869173\n",
      "   0.27366376]\n",
      " [ 0.18883078 -0.47520044 -0.4314221  ... -1.1670263  -0.05709446\n",
      "   0.17906033]]\n"
     ]
    }
   ],
   "source": [
    "bert_model = hub.KerasLayer(tfhub_handle_encoder)\n",
    "bert_results = bert_model(text_preprocessed)\n",
    "\n",
    "print(f'Pooled Outputs Shape:{bert_results[\"pooled_output\"].shape}')\n",
    "print(f'Pooled Outputs Values:{bert_results[\"pooled_output\"][0, :12]}')\n",
    "print(f'Sequence Outputs Shape:{bert_results[\"sequence_output\"].shape}')\n",
    "print(f'Sequence Outputs Values:{bert_results[\"sequence_output\"][0, :12]}')"
   ]
  },
  {
   "cell_type": "markdown",
   "metadata": {
    "id": "pDNKfAXbDnJH"
   },
   "source": [
    "## 迁移学习"
   ]
  },
  {
   "cell_type": "code",
   "execution_count": 22,
   "metadata": {
    "id": "aksj743St9ga",
    "tags": []
   },
   "outputs": [],
   "source": [
    "def build_classifier_model():\n",
    "  text_input = tf.keras.layers.Input(shape=(), dtype=tf.string, name='text')\n",
    "  preprocessing_layer = hub.KerasLayer(tfhub_handle_preprocess, name='preprocessing')\n",
    "  encoder_inputs = preprocessing_layer(text_input)\n",
    "  encoder = hub.KerasLayer(tfhub_handle_encoder, trainable=True, name='BERT_encoder')\n",
    "  outputs = encoder(encoder_inputs)\n",
    "  net = outputs['pooled_output']\n",
    "  net = tf.keras.layers.Dropout(0.1)(net)\n",
    "  net = tf.keras.layers.Dense(5, activation='softmax', name='classifier')(net)\n",
    "  return tf.keras.Model(text_input, net)"
   ]
  },
  {
   "cell_type": "markdown",
   "metadata": {
    "id": "Zs4yhFraBuGQ"
   },
   "source": [
    "在开始训练之前，我们测试模型搭建过程是否有误。"
   ]
  },
  {
   "cell_type": "code",
   "execution_count": 23,
   "metadata": {
    "id": "mGMF8AZcB2Zy",
    "tags": []
   },
   "outputs": [
    {
     "name": "stdout",
     "output_type": "stream",
     "text": [
      "tf.Tensor([[0.50154585 0.5305265  0.589105   0.5593288  0.56779325]], shape=(1, 5), dtype=float32)\n"
     ]
    }
   ],
   "source": [
    "classifier_model = build_classifier_model()\n",
    "bert_raw_result = classifier_model(tf.constant(text_test))\n",
    "print(tf.sigmoid(bert_raw_result))"
   ]
  },
  {
   "cell_type": "code",
   "execution_count": 24,
   "metadata": {
    "id": "0EmzyHZXKIpm",
    "tags": []
   },
   "outputs": [
    {
     "data": {
      "image/png": "[encoded data removed]",
      "text/plain": [
       "<IPython.core.display.Image object>"
      ]
     },
     "execution_count": 24,
     "metadata": {},
     "output_type": "execute_result"
    }
   ],
   "source": [
    "tf.keras.utils.plot_model(classifier_model)"
   ]
  },
  {
   "cell_type": "code",
   "execution_count": 25,
   "metadata": {},
   "outputs": [
    {
     "name": "stdout",
     "output_type": "stream",
     "text": [
      "Model: \"model\"\n",
      "__________________________________________________________________________________________________\n",
      " Layer (type)                   Output Shape         Param #     Connected to                     \n",
      "==================================================================================================\n",
      " text (InputLayer)              [(None,)]            0           []                               \n",
      "                                                                                                  \n",
      " preprocessing (KerasLayer)     {'input_type_ids':   0           ['text[0][0]']                   \n",
      "                                (None, 128),                                                      \n",
      "                                 'input_mask': (Non                                               \n",
      "                                e, 128),                                                          \n",
      "                                 'input_word_ids':                                                \n",
      "                                (None, 128)}                                                      \n",
      "                                                                                                  \n",
      " BERT_encoder (KerasLayer)      {'default': (None,   28763649    ['preprocessing[0][0]',          \n",
      "                                512),                             'preprocessing[0][1]',          \n",
      "                                 'sequence_output':               'preprocessing[0][2]']          \n",
      "                                 (None, 128, 512),                                                \n",
      "                                 'encoder_outputs':                                               \n",
      "                                 [(None, 128, 512),                                               \n",
      "                                 (None, 128, 512),                                                \n",
      "                                 (None, 128, 512),                                                \n",
      "                                 (None, 128, 512)],                                               \n",
      "                                 'pooled_output': (                                               \n",
      "                                None, 512)}                                                       \n",
      "                                                                                                  \n",
      " dropout_2 (Dropout)            (None, 512)          0           ['BERT_encoder[0][5]']           \n",
      "                                                                                                  \n",
      " classifier (Dense)             (None, 5)            2565        ['dropout_2[0][0]']              \n",
      "                                                                                                  \n",
      "==================================================================================================\n",
      "Total params: 28,766,214\n",
      "Trainable params: 28,766,213\n",
      "Non-trainable params: 1\n",
      "__________________________________________________________________________________________________\n"
     ]
    }
   ],
   "source": [
    "classifier_model.summary()"
   ]
  },
  {
   "cell_type": "markdown",
   "metadata": {
    "id": "WbUWoZMwc302",
    "tags": []
   },
   "source": [
    "## 训练模型"
   ]
  },
  {
   "cell_type": "markdown",
   "metadata": {
    "id": "WpJ3xcwDT56v"
   },
   "source": [
    "### 损失函数\n",
    "\n",
    "我们使用交叉熵作为我们的损失函数：\n",
    "\n",
    "$$ -\\sum_{c=1}^My_{o,c}\\log(p_{o,c}) $$\n",
    "\n",
    "其中：\n",
    "\n",
    "- M 是分类数\n",
    "- y 是标签 c 在观测 o 下是否分类正确的 0/1 变量\n",
    "- p 是预测概率"
   ]
  },
  {
   "cell_type": "code",
   "execution_count": 26,
   "metadata": {
    "id": "OWPOZE-L3AgE",
    "tags": []
   },
   "outputs": [],
   "source": [
    "loss = tf.keras.losses.SparseCategoricalCrossentropy()\n",
    "metrics = tf.metrics.SparseCategoricalAccuracy()"
   ]
  },
  {
   "cell_type": "markdown",
   "metadata": {
    "id": "77psrpfzbxtp"
   },
   "source": [
    "### 学习率\n",
    "\n",
    "由于神经网络刚开始训练时非常不稳定，因此刚开始的学习率应当设置得很低很低，这样可以保证网络能够具有良好的收敛性。但是较低的学习率会使得训练过程变得非常缓慢，因此这里采用从较低学习率逐渐增大至较高学习率的方式实现网络训练前 10% 次迭代的“热身”阶段。一直使用较高学习率是不合适的，因为它会使得权重的梯度一直来回震荡，很难使训练的损失值达到全局最低谷。因此在 warm-up 结束后，我们使用线性减小的学习率。"
   ]
  },
  {
   "cell_type": "code",
   "execution_count": 27,
   "metadata": {
    "id": "P9eP2y9dbw32",
    "tags": []
   },
   "outputs": [],
   "source": [
    "epochs = 5\n",
    "steps_per_epoch = tf.data.experimental.cardinality(train_ds).numpy()\n",
    "num_train_steps = steps_per_epoch * epochs\n",
    "num_warmup_steps = int(0.1*num_train_steps)"
   ]
  },
  {
   "cell_type": "markdown",
   "metadata": {
    "id": "77psrpfzbxtp"
   },
   "source": [
    "### 优化器\n",
    "\n",
    "在迁移学习时，我们选取的优化器与 BERT 在预训练时的 `Adamw` 优化器保持一致。\n",
    "\n",
    "<img src=\"./figure/Adamw.png\" alt=\"Drawing\" style=\"width: 400px;\"/>\n",
    "\n",
    "Adam 的超收敛性质使其在训练学习率高的神经网络时可以达到节省迭代次数的效果。只要调整得当，Adam 在实践上都能达到 SGD+Momentum 的高准确率，而且速度更快。在几年前人们普遍认为 Adam 的泛化性能不如 SGD+Momentum，然而今年论文表明这通常是由于所选择的超参数不正确导致，通常来说 Adam 需要的正则化比 SGD 更多。"
   ]
  },
  {
   "cell_type": "code",
   "execution_count": 28,
   "metadata": {
    "id": "P9eP2y9dbw32",
    "tags": []
   },
   "outputs": [],
   "source": [
    "init_lr = 3e-5\n",
    "optimizer = optimization.create_optimizer(init_lr=init_lr,\n",
    "                                          num_train_steps=num_train_steps,\n",
    "                                          num_warmup_steps=num_warmup_steps,\n",
    "                                          optimizer_type='adamw')"
   ]
  },
  {
   "cell_type": "markdown",
   "metadata": {
    "id": "SqlarlpC_v0g"
   },
   "source": [
    "### 开始训练"
   ]
  },
  {
   "cell_type": "code",
   "execution_count": 29,
   "metadata": {
    "id": "HtfDFAnN_Neu",
    "tags": []
   },
   "outputs": [
    {
     "name": "stdout",
     "output_type": "stream",
     "text": [
      "----- 训练开始 -----\n",
      "Epoch 1/5\n",
      "45/45 [==============================] - 75s 2s/step - loss: 1.2007 - sparse_categorical_accuracy: 0.5625 - val_loss: 0.2956 - val_sparse_categorical_accuracy: 0.9326\n",
      "Epoch 2/5\n",
      "45/45 [==============================] - 72s 2s/step - loss: 0.1909 - sparse_categorical_accuracy: 0.9445 - val_loss: 0.1289 - val_sparse_categorical_accuracy: 0.9691\n",
      "Epoch 3/5\n",
      "45/45 [==============================] - 72s 2s/step - loss: 0.0808 - sparse_categorical_accuracy: 0.9789 - val_loss: 0.1150 - val_sparse_categorical_accuracy: 0.9747\n",
      "Epoch 4/5\n",
      "45/45 [==============================] - 69s 2s/step - loss: 0.0445 - sparse_categorical_accuracy: 0.9888 - val_loss: 0.1175 - val_sparse_categorical_accuracy: 0.9747\n",
      "Epoch 5/5\n",
      "45/45 [==============================] - 68s 2s/step - loss: 0.0320 - sparse_categorical_accuracy: 0.9916 - val_loss: 0.1269 - val_sparse_categorical_accuracy: 0.9607\n",
      "----- 训练完成 -----\n"
     ]
    }
   ],
   "source": [
    "classifier_model.compile(optimizer=optimizer,\n",
    "                         loss=loss,\n",
    "                         metrics=metrics)\n",
    "print('----- 训练开始 -----')\n",
    "history = classifier_model.fit(x=train_ds,\n",
    "                               validation_data=val_ds,\n",
    "                               epochs=epochs)\n",
    "print('----- 训练完成 -----')"
   ]
  },
  {
   "cell_type": "code",
   "execution_count": 30,
   "metadata": {
    "id": "fiythcODf0xo",
    "tags": []
   },
   "outputs": [
    {
     "data": {
      "text/plain": [
       "<matplotlib.legend.Legend at 0x7f5f1bf72670>"
      ]
     },
     "execution_count": 30,
     "metadata": {},
     "output_type": "execute_result"
    },
    {
     "data": {
      "image/png": "[encoded data removed]",
      "text/plain": [
       "<Figure size 720x432 with 2 Axes>"
      ]
     },
     "metadata": {
      "needs_background": "light"
     },
     "output_type": "display_data"
    }
   ],
   "source": [
    "history_dict = history.history\n",
    "\n",
    "acc = history_dict['sparse_categorical_accuracy']\n",
    "val_acc = history_dict['val_sparse_categorical_accuracy']\n",
    "loss = history_dict['loss']\n",
    "val_loss = history_dict['val_loss']\n",
    "\n",
    "epochs = range(1, len(acc) + 1)\n",
    "fig = plt.figure(figsize=(10, 6))\n",
    "fig.tight_layout()\n",
    "\n",
    "plt.subplot(2, 1, 1)\n",
    "# r is for \"solid red line\"\n",
    "plt.plot(epochs, loss, 'r', label='Training loss')\n",
    "# b is for \"solid blue line\"\n",
    "plt.plot(epochs, val_loss, 'b', label='Validation loss')\n",
    "plt.title('Training and validation loss')\n",
    "# plt.xlabel('Epochs')\n",
    "plt.ylabel('Loss')\n",
    "plt.legend()\n",
    "\n",
    "plt.subplot(2, 1, 2)\n",
    "plt.plot(epochs, acc, 'r', label='Training acc')\n",
    "plt.plot(epochs, val_acc, 'b', label='Validation acc')\n",
    "plt.title('Training and validation accuracy')\n",
    "plt.xlabel('Epochs')\n",
    "plt.ylabel('Accuracy')\n",
    "plt.legend(loc='lower right')"
   ]
  },
  {
   "cell_type": "markdown",
   "metadata": {
    "id": "uBthMlTSV8kn"
   },
   "source": [
    "### 模型评价\n",
    "\n",
    "我们在测试集上计算分类准确率"
   ]
  },
  {
   "cell_type": "code",
   "execution_count": 31,
   "metadata": {
    "id": "slqB-urBV9sP",
    "tags": []
   },
   "outputs": [
    {
     "name": "stdout",
     "output_type": "stream",
     "text": [
      "14/14 [==============================] - 5s 370ms/step - loss: 0.0567 - sparse_categorical_accuracy: 0.9820\n",
      "Loss: 0.05666141211986542\n",
      "Accuracy: 0.9820224642753601\n"
     ]
    }
   ],
   "source": [
    "loss, accuracy = classifier_model.evaluate(test_ds)\n",
    "print(f'Loss: {loss}')\n",
    "print(f'Accuracy: {accuracy}')"
   ]
  },
  {
   "cell_type": "code",
   "execution_count": 32,
   "metadata": {},
   "outputs": [
    {
     "data": {
      "image/png": "[encoded data removed]",
      "text/plain": [
       "<Figure size 1728x1440 with 2 Axes>"
      ]
     },
     "metadata": {
      "needs_background": "light"
     },
     "output_type": "display_data"
    }
   ],
   "source": [
    "def plot_confusion_matrix(cm, classes,\n",
    "                          title='Confusion matrix',\n",
    "                          cmap=plt.cm.Blues):\n",
    "\n",
    "    cm = cm.astype('float') / cm.sum(axis=1)[:, np.newaxis]\n",
    "\n",
    "    plt.imshow(cm, interpolation='nearest', cmap=cmap)\n",
    "    plt.title(title, fontsize=30)\n",
    "    plt.colorbar()\n",
    "    tick_marks = np.arange(len(classes))\n",
    "    plt.xticks(tick_marks, classes, rotation=45, fontsize=22)\n",
    "    plt.yticks(tick_marks, classes, fontsize=22)\n",
    "\n",
    "    fmt = '.2f'\n",
    "    thresh = cm.max() / 2.\n",
    "    for i, j in itertools.product(range(cm.shape[0]), range(cm.shape[1])):\n",
    "        plt.text(j, i, format(cm[i, j], fmt),\n",
    "                 horizontalalignment=\"center\",\n",
    "                 color=\"white\" if cm[i, j] > thresh else \"black\")\n",
    "\n",
    "    plt.ylabel('True label', fontsize=25)\n",
    "    plt.xlabel('Predicted label', fontsize=25)\n",
    "    \n",
    "predict_probability = classifier_model.predict(test_ds)\n",
    "prediction = [np.argmax(i) for i in predict_probability]\n",
    "cnf_matrix = confusion_matrix(y_test.tolist(), prediction)\n",
    "plt.figure(figsize=(24,20))\n",
    "plot_confusion_matrix(cnf_matrix, classes=text_labels, title=\"Confusion matrix\")\n",
    "plt.show()"
   ]
  },
  {
   "cell_type": "markdown",
   "metadata": {
    "id": "Rtn7jewb6dg4"
   },
   "source": [
    "## 模型应用\n",
    "\n",
    "我们将经过训练完成的模型保存，方便调用。"
   ]
  },
  {
   "cell_type": "code",
   "execution_count": 33,
   "metadata": {
    "id": "ShcvqJAgVera",
    "tags": []
   },
   "outputs": [
    {
     "name": "stderr",
     "output_type": "stream",
     "text": [
      "2022-01-12 00:04:42.660889: W tensorflow/python/util/util.cc:368] Sets are not currently considered sequences, but this may change in the future, so consider avoiding using them.\n",
      "WARNING:absl:Found untraced functions such as restored_function_body, restored_function_body, restored_function_body, restored_function_body, restored_function_body while saving (showing 5 of 310). These functions will not be directly callable after loading.\n"
     ]
    }
   ],
   "source": [
    "classifier_model.save('./model/bbc_bert', include_optimizer=False)"
   ]
  },
  {
   "cell_type": "markdown",
   "metadata": {},
   "source": [
    "使用模型对输入的文本进行分类。\n",
    "\n",
    "我们输入一则测试新闻文本：“如何在股票市场投资”，该文本被模型分类为商业，符合预期。"
   ]
  },
  {
   "cell_type": "code",
   "execution_count": 34,
   "metadata": {
    "id": "VBWzH6exlCPS"
   },
   "outputs": [
    {
     "name": "stdout",
     "output_type": "stream",
     "text": [
      "----- 每种分类的得分 -----\n"
     ]
    },
    {
     "data": {
      "text/plain": [
       "{'business': 0.6644883,\n",
       " 'entertainment': 0.5076837,\n",
       " 'politics': 0.50357664,\n",
       " 'sport': 0.5106461,\n",
       " 'tech': 0.5570022}"
      ]
     },
     "execution_count": 34,
     "metadata": {},
     "output_type": "execute_result"
    }
   ],
   "source": [
    "model = tf.saved_model.load('./model/bbc_bert')\n",
    "query = ['how to invest in the stock market']\n",
    "result = tf.sigmoid(model(tf.constant(query)))\n",
    "print('----- 每种分类的得分 -----')\n",
    "dict(zip(text_labels, result.numpy()[0]))"
   ]
  },
  {
   "cell_type": "markdown",
   "metadata": {},
   "source": [
    "# 分布式训练"
   ]
  },
  {
   "cell_type": "markdown",
   "metadata": {},
   "source": [
    "> 在该笔记本中，我们演示的为并非真实的分布式，而是单机模拟的伪分布式，真实的分布式需要提交到计算机集群。\n",
    "\n",
    "您可在该笔记本中进行代码初步测试，之后通过以下方式提交到中央财经大学高性能大数据计算集群。"
   ]
  },
  {
   "cell_type": "raw",
   "metadata": {},
   "source": [
    "ssh cufe@192.168.113.164\n",
    "password: dashuju\n",
    "\n",
    "spark-submit --master yarn code.py --py-files gensim.zip > output.txt"
   ]
  },
  {
   "cell_type": "markdown",
   "metadata": {},
   "source": [
    "* 通过 YARN 资源调度系统提交到作业队列： `spark-submit --master yarn`\n",
    "* 由于在 UDF（用户自定义）函数中使用了第三方包，需要将其发送至集群中的每个计算节点 `--py-files gensim.zip`\n",
    "* 队列计算完成后将结果重定向输出 `> output.txt`"
   ]
  },
  {
   "cell_type": "markdown",
   "metadata": {
    "tags": []
   },
   "source": [
    "## 环境启动"
   ]
  },
  {
   "cell_type": "code",
   "execution_count": 1,
   "metadata": {
    "collapsed": false,
    "jupyter": {
     "outputs_hidden": false
    }
   },
   "outputs": [
    {
     "name": "stderr",
     "output_type": "stream",
     "text": [
      "Using Spark's default log4j profile: org/apache/spark/log4j-defaults.properties\n",
      "Setting default log level to \"WARN\".\n",
      "To adjust logging level use sc.setLogLevel(newLevel). For SparkR, use setLogLevel(newLevel).\n",
      "22/01/23 17:18:57 WARN NativeCodeLoader: Unable to load native-hadoop library for your platform... using builtin-java classes where applicable\n"
     ]
    }
   ],
   "source": [
    "import pandas as pd\n",
    "import pyspark.ml.feature\n",
    "from pyspark.ml import Pipeline\n",
    "from pyspark.ml.tuning import CrossValidator,ParamGridBuilder\n",
    "from pyspark.ml.evaluation import MulticlassClassificationEvaluator\n",
    "from pyspark.ml.feature import Tokenizer,StopWordsRemover,CountVectorizer,IDF,StringIndexer,Word2Vec,HashingTF\n",
    "from pyspark.ml.classification import LogisticRegression,RandomForestClassifier,GBTClassifier,DecisionTreeClassifier\n",
    "from pyspark.sql import SparkSession,Row\n",
    "from pyspark.sql.types import StringType\n",
    "from pyspark.sql.functions import udf, col\n",
    "\n",
    "spark = SparkSession.builder.appName('text_classification').getOrCreate()"
   ]
  },
  {
   "cell_type": "markdown",
   "metadata": {},
   "source": [
    "## 数据读取\n",
    "\n",
    "由于数据为逗号分隔的 csv 格式，在文本列出现混淆。我们使用 pandas 进行读取后再转换为 spark DataFrame 格式"
   ]
  },
  {
   "cell_type": "code",
   "execution_count": 6,
   "metadata": {
    "collapsed": false,
    "jupyter": {
     "outputs_hidden": false
    }
   },
   "outputs": [
    {
     "name": "stdout",
     "output_type": "stream",
     "text": [
      "root\n",
      " |-- category: string (nullable = true)\n",
      " |-- text: string (nullable = true)\n",
      "\n",
      "+-------------+--------------------+\n",
      "|     category|                text|\n",
      "+-------------+--------------------+\n",
      "|         tech|tv future in the ...|\n",
      "|     business|worldcom boss  le...|\n",
      "|        sport|tigers wary of fa...|\n",
      "|        sport|yeading face newc...|\n",
      "|entertainment|ocean s twelve ra...|\n",
      "|     politics|howard hits back ...|\n",
      "|     politics|blair prepares to...|\n",
      "|        sport|henman hopes ende...|\n",
      "|        sport|wilkinson fit to ...|\n",
      "|entertainment|last star wars  n...|\n",
      "|entertainment|berlin cheers for...|\n",
      "|     business|virgin blue share...|\n",
      "|     business|crude oil prices ...|\n",
      "|     politics|hague  given up  ...|\n",
      "|        sport|moya emotional af...|\n",
      "|     business|s korean credit c...|\n",
      "|     politics|howard backs stem...|\n",
      "|        sport|connors boost for...|\n",
      "|     business|japanese banking ...|\n",
      "|         tech|games maker fight...|\n",
      "+-------------+--------------------+\n",
      "only showing top 20 rows\n",
      "\n",
      "+-------------+-----+\n",
      "|     category|count|\n",
      "+-------------+-----+\n",
      "|        sport|  511|\n",
      "|     politics|  417|\n",
      "|entertainment|  386|\n",
      "|     business|  510|\n",
      "|         tech|  401|\n",
      "+-------------+-----+\n",
      "\n"
     ]
    }
   ],
   "source": [
    "try:\n",
    "    df = spark.read.csv('./data/bbc-text.csv', header = True, inferSchema = True)\n",
    "except 'FileNotFoundError':\n",
    "    # location on server\n",
    "    df = spark.read.csv('file:///home1/cufe/students/bbc-text.csv', header = True, inferSchema = True)\n",
    "df.printSchema()\n",
    "df.show()\n",
    "\n",
    "df.groupBy('category').count().show()"
   ]
  },
  {
   "cell_type": "markdown",
   "metadata": {},
   "source": [
    "## 文本清洁\n",
    "\n",
    "1. 去除标签\n",
    "    * 将一些网页 HTML 特有的标签进行去除，如 `p` `br` 等\n",
    "1. 去除标点符号\n",
    "    * 将常用标点符号进行去除，如 `! ;` 等\n",
    "1. 去除多余的空格\n",
    "    * 删除无意义的连续性空格\n",
    "1. 去除数字\n",
    "    * 由于数字对文本情感识别作用小，我们选择将其删去\n",
    "1. 去除停用词\n",
    "    * 对意义较小的常用词进行删除\n",
    "1. 去除过短的词汇\n",
    "    * 由于英文中过短的字符一般意义较小，我们选择将其删去\n",
    "1. 大小写统一\n",
    "    * 大小写代表同一词汇，需要进行统一"
   ]
  },
  {
   "cell_type": "code",
   "execution_count": 7,
   "metadata": {
    "collapsed": false,
    "jupyter": {
     "outputs_hidden": false
    }
   },
   "outputs": [],
   "source": [
    "cleaning = True\n",
    "if cleaning == False:\n",
    "    df = df.withColumn(\"clean_text\", df.text)\n",
    "else:\n",
    "    try:\n",
    "        # 在服务器上的分布式模式中，需要使用 --py-files 将 gensim 包传到每个子节点\n",
    "        # 若该过程失败则跳过文本清洁过程\n",
    "        import gensim.parsing.preprocessing as gsp\n",
    "        from gensim import utils\n",
    "        filters = [\n",
    "            gsp.strip_tags,\n",
    "            gsp.strip_punctuation,\n",
    "            gsp.strip_multiple_whitespaces,\n",
    "            gsp.strip_numeric,\n",
    "            gsp.remove_stopwords,\n",
    "            gsp.strip_short,\n",
    "            gsp.stem_text\n",
    "        ]\n",
    "        def clean_text(x):\n",
    "            x = x.lower()\n",
    "            x = utils.to_unicode(x)\n",
    "            for f in filters:\n",
    "                x = f(x)\n",
    "            return x\n",
    "\n",
    "        cleanTextUDF = udf(lambda x: clean_text(x), StringType())\n",
    "        df = df.withColumn(\"clean_text\", cleanTextUDF(col(\"text\")))\n",
    "    except:\n",
    "        df = df.withColumn(\"clean_text\", df.text)"
   ]
  },
  {
   "cell_type": "code",
   "execution_count": 8,
   "metadata": {
    "collapsed": false,
    "jupyter": {
     "outputs_hidden": false
    }
   },
   "outputs": [
    {
     "name": "stderr",
     "output_type": "stream",
     "text": [
      "[Stage 19:>                                                         (0 + 1) / 1]\r"
     ]
    },
    {
     "name": "stdout",
     "output_type": "stream",
     "text": [
      "+-------------+--------------------+--------------------+-----+\n",
      "|     category|                text|          clean_text|label|\n",
      "+-------------+--------------------+--------------------+-----+\n",
      "|         tech|tv future in the ...|futur hand viewer...|  3.0|\n",
      "|     business|worldcom boss  le...|worldcom boss lef...|  1.0|\n",
      "|        sport|tigers wary of fa...|tiger wari farrel...|  0.0|\n",
      "|        sport|yeading face newc...|yead face newcast...|  0.0|\n",
      "|entertainment|ocean s twelve ra...|ocean raid box of...|  4.0|\n",
      "+-------------+--------------------+--------------------+-----+\n",
      "only showing top 5 rows\n",
      "\n"
     ]
    },
    {
     "name": "stderr",
     "output_type": "stream",
     "text": [
      "                                                                                \r"
     ]
    }
   ],
   "source": [
    "# ----------------------------> 标签数字转换\n",
    "labelEncoder = StringIndexer(inputCol='category', outputCol='label').fit(df)\n",
    "labelEncoder.transform(df).show(5)\n",
    "df = labelEncoder.transform(df)\n",
    "# ----------------------------------------------------------------------"
   ]
  },
  {
   "cell_type": "markdown",
   "metadata": {},
   "source": [
    "## 数据集划分\n",
    "\n",
    "划分 70% 的训练集和 30% 的测试集。"
   ]
  },
  {
   "cell_type": "code",
   "execution_count": 9,
   "metadata": {
    "collapsed": false,
    "jupyter": {
     "outputs_hidden": false
    }
   },
   "outputs": [],
   "source": [
    "(trainDF,testDF) = df.randomSplit((0.7,0.3), seed=1)"
   ]
  },
  {
   "cell_type": "markdown",
   "metadata": {},
   "source": [
    "## 文本特征工程\n",
    "\n",
    "我们使用 TF-IDF 和 Word2Vec 两种方式进行文本特征工程。\n",
    "\n",
    "### TF-IDF\n",
    "\n",
    "词频-逆文档频率（TF-IDF）是一种广泛用于文本挖掘的特征向量化方法，它反映了单个词汇相对于语料库中文档的重要性。我们用表示 $t$ 代表词汇，用 $d$ 代表 表示文档，用 $D$ 表示语料库。词频 $TF(t, d)$ 是该词在文档 $d$ 中出现的次数，而文档频率 $DF(t, D)$ 是包含该词的文档的数量。如果我们只使用词频来衡量重要性，很容易过分强调那些出现频率很高但几乎没有关于文档的信息的词，例如“这”“的”等词汇。如果一个术语在语料库中经常出现，则意味着它不包含有关特定文档的特殊信息。逆文档频率是一个术语提供多少信息的数值度量：\n",
    "\n",
    "$$I D F(t, D)=\\log \\frac{|D|+1}{D F(t, D)+1}$$\n",
    "\n",
    "其中 $|D|$ 是语料库中的文档总数。\n",
    "\n",
    "由于使用对数，如果一个词出现在所有文档中，它的 IDF 值变为 0，因此使用平滑词以避免对语料库之外的词除以零。TF-IDF 是 TF 和 IDF 的乘积：\n",
    "\n",
    "$$T F I D F(t, d, D)=T F(t, d) \\cdot I D F(t, D)$$\n",
    "\n",
    "在 TF 的基础上，我们使用改进版的 HashingTF 进行处理。HashingTF 将词汇转换为固定长度的特征向量。HashingTF 利用散列表应用哈希函数映射词汇到索引，之后通过映射的函数计算词频，能有效降低 TF 在大型语料库所需的时间。\n",
    "\n",
    "我们从一组句子开始，将每个句子分成单词，构建词袋，使用 HashingTF 将句子散列成特征向量，使用 IDF 重新缩放特征向量，然后将我们的特征向量传递给学习算法。\n",
    "\n",
    "### Word2Vec\n",
    "\n",
    "在前文的建模过程中，我们多次使用到了文本特征工程算法 Word2Vec。Word2Vec 在自然语言处理中作为基础的一步，在它的基础上文本分类、相似查询、多语言翻译、问答系统等应用获得了很好的效果。\n",
    "\n",
    "#### 原始算法\n",
    "\n",
    "Word2Vec 将单词表示为低维度向量，在训练得当的情况下，意思相近的单词在具有相似的向量表示。且 Word2Vec 这种向量表示具有良好的加减性质，如*国王* - *男人* + *女人*能够得到近似*王后*的向量。\n",
    "\n",
    "词汇的向量化表示一般使用一个较浅的神经网络进行训练，训练的目标即为尽可能地使得每个词汇的向量表示能够用来预测上下文词汇，或是被周围的词汇预测，基于此一般有两种训练 Word2Vec 的方法：CBOW 和 Skip-gram。CBOW 使用上下文词汇的向量表示作为输入训练目标词汇，Skip-gram 训练目标词汇的向量表示以达到最好的预测上下文词汇的效果，两种方法并没有本质上的区别。\n",
    "\n",
    "<img src=\"./figure/CBOW_SG.png\" alt=\"Drawing\" style=\"width: 600px;\"/>\n",
    "\n",
    "以 Skip-gram 为例，给定一个按顺序的词汇序列 $w_{1}, w_{2}, w_{3}, \\ldots, w_{T}$，训练的目标即为最大化对数似然函数：\n",
    "\n",
    "$$J(\\Omega)=\\frac{1}{T} \\sum_{t=1}^{T} \\sum_{-c \\leq j \\leq c, j \\neq 0} \\log p\\left(w_{t+j} \\mid w_{t}\\right)$$\n",
    "\n",
    "其中$c$是上下文滑动窗口的尺寸，$p\\left(w_{t+j} \\mid w_{t}\\right)$ 是给定 $w_{t+j}$ 时中心词出现的概率。\n",
    "\n",
    "在原始的惯用的算法中，使用一个简单的只含一个隐藏层的神经网络进行训练，使用 softmax 作为输出层的激活函数：\n",
    "\n",
    "$$p\\left(w_{O} \\mid w_{I}\\right)=\\frac{\\exp \\left(\\left\\langle\\mathbf{v}_{i n}^{w_{I}}, \\mathbf{v}_{o u t}^{w_{O}}\\right\\rangle\\right)}{\\sum_{w=1}^{V} \\exp \\left(\\left\\langle\\mathbf{v}_{i n}^{w_{I}}, \\mathbf{v}_{o u t}^{w}\\right\\rangle\\right)}$$\n",
    "\n",
    "其中，$V$ 表示代表语料库的大小，$\\langle\\cdot, \\cdot\\rangle$ 代表两个向量的内积。\n",
    "\n",
    "这种计算方式与语料库的大小成正比，但语料库非常大的时候是比较耗时的。\n",
    "\n",
    "#### 改进算法\n",
    "\n",
    "通过负采样的方式，我们可以近似对数的 softmax 函数：\n",
    "\n",
    "$$\\begin{aligned}\n",
    "\\log p\\left(w_{O} \\mid w_{I}\\right) & \\approx \\log \\sigma\\left(\\left\\langle\\mathbf{v}_{i n}^{w_{I}}, \\mathbf{v}_{o u t}^{w_{O}}\\right\\rangle\\right) \\\\\n",
    "&+\\sum_{k=1}^{K} \\mathbb{E}_{w_{k} \\sim P_{n}(w)}\\left[\\log \\sigma\\left(-\\left\\langle\\mathbf{v}_{i n}^{w_{I}}, \\mathbf{v}_{o u t}^{w_{k}}\\right\\rangle\\right)\\right],\n",
    "\\end{aligned}$$\n",
    "\n",
    "其中 $\\sigma(x)=\\frac{1}{1+\\exp (-x)}$ 是 sigmoid 函数，式中的期望值通过随机抽取的词汇计算，这样就不需要计算整个语料库，通过牺牲较小精度的近似算法达到了节省时间的目的。然而尽管如此，对于互联网行业的大规模上线应用，语料库十分巨大，训练 Word2Vec 模型的时间通常需要以天为单位计。\n",
    "\n",
    "#### 分布式实现\n",
    "\n",
    "为了进一步缩短训练时间，我们有必要将 Word2Vec 进行分布式实现，在集群中的各个计算节点之间分配计算任务。\n",
    "\n",
    "<img src=\"./figure/comparison.png\" alt=\"Drawing\" style=\"width: 1000px;\"/>\n",
    "\n",
    "Word2Vec 分布式实现的挑战之一是随机梯度下降算法。随机梯度下降是一个迭代算法，在每一次迭代挑选出一组输入和输出词向量，然后进行微小的更新。因此随机梯度下降算法本质上是与并行相排斥的，通过多线程的方式并行进行更新可能会导致冲突，比如两个线程同时更新到同一个词。\n",
    "\n",
    "所以我们通过尽量避免多线程冲突的方式进行随机梯度下降算法的并行实现，即使发生了更新的冲突，仍然应该允许迭代继续进行。\n",
    "\n",
    "<img src=\"./figure/algorithm.png\" alt=\"Drawing\" style=\"width: 400px;\"/>\n",
    "\n",
    "在伪代码中，矩阵 $M_{i n}^{V \\times D}$ 包含了每一个输入词汇的向量表示，矩阵 $M_{out}^{V \\times D}$ 包含了每一个输出词汇的向量表示，这些矩阵每次迭代进行更新（第 17 - 20 行）。在分布式实现中，伪代码中的最外层循环事实上是由多个计算节点并行计算的。伪代码的第 6 行挑选一个正的样本（第 8 行的目标词汇）或是一个负的样本（第 10 行）。伪代码的第 13 - 15 行计算了对应的输入词汇和正负样本的目标函数的梯度。\n",
    "\n",
    "由于这种并行算法打破了传统 SGD 算法必须依赖连续且顺序迭代的惯例，理论上会降低算法的收敛能力，然而在实践中只要语料库足够大，多线程同时使用到同一个词的概率并不大，这种冲突是可控的且一般不会影响到收敛性。\n"
   ]
  },
  {
   "cell_type": "code",
   "execution_count": 10,
   "metadata": {
    "collapsed": false,
    "jupyter": {
     "outputs_hidden": false
    }
   },
   "outputs": [
    {
     "name": "stderr",
     "output_type": "stream",
     "text": [
      "[Stage 25:>                                                         (0 + 1) / 1]\r"
     ]
    },
    {
     "name": "stdout",
     "output_type": "stream",
     "text": [
      "+--------+--------------------+--------------------+-----+--------------------+--------------------+--------------------+--------------------+\n",
      "|category|                text|          clean_text|label|              tokens|     filtered_tokens|         rawFeatures|  vectorizedFeatures|\n",
      "+--------+--------------------+--------------------+-----+--------------------+--------------------+--------------------+--------------------+\n",
      "|business|$1m payoff for fo...|payoff shell boss...|  1.0|[payoff, shell, b...|[payoff, shell, b...|(16323,[0,4,11,16...|(16323,[0,4,11,16...|\n",
      "|business|absa and barclays...|absa barclai talk...|  1.0|[absa, barclai, t...|[absa, barclai, t...|(16323,[0,1,11,23...|(16323,[0,1,11,23...|\n",
      "|business|ad firm wpp s pro...|firm wpp profit s...|  1.0|[firm, wpp, profi...|[firm, wpp, profi...|(16323,[0,1,2,7,1...|(16323,[0,1,2,7,1...|\n",
      "|business|aids and climate ...|aid climat davo a...|  1.0|[aid, climat, dav...|[aid, climat, dav...|(16323,[0,1,2,3,4...|(16323,[0,1,2,3,4...|\n",
      "|business|air passengers wi...|air passeng win n...|  1.0|[air, passeng, wi...|[air, passeng, wi...|(16323,[0,1,2,3,1...|(16323,[0,1,2,3,1...|\n",
      "|business|alfa romeos  to g...|alfa romeo engin ...|  1.0|[alfa, romeo, eng...|[alfa, romeo, eng...|(16323,[0,1,2,18,...|(16323,[0,1,2,18,...|\n",
      "|business|algeria hit by fu...|algeria hit ga ri...|  1.0|[algeria, hit, ga...|[algeria, hit, ga...|(16323,[0,6,18,22...|(16323,[0,6,18,22...|\n",
      "|business|amex shares up on...|amex share spin n...|  1.0|[amex, share, spi...|[amex, share, spi...|(16323,[0,1,2,4,1...|(16323,[0,1,2,4,1...|\n",
      "|business|argentina  venezu...|argentina venezue...|  1.0|[argentina, venez...|[argentina, venez...|(16323,[1,11,16,1...|(16323,[1,11,16,1...|\n",
      "|business|argentina closes ...|argentina close d...|  1.0|[argentina, close...|[argentina, close...|(16323,[0,1,6,7,1...|(16323,[0,1,6,7,1...|\n",
      "|business|arsenal  may seek...|arsen seek share ...|  1.0|[arsen, seek, sha...|[arsen, seek, sha...|(16323,[0,1,2,4,5...|(16323,[0,1,2,4,5...|\n",
      "|business|australia rates a...|australia rate ye...|  1.0|[australia, rate,...|[australia, rate,...|(16323,[0,1,2,4,6...|(16323,[0,1,2,4,6...|\n",
      "|business|axa sun life cuts...|axa sun life cut ...|  1.0|[axa, sun, life, ...|[axa, sun, life, ...|(16323,[0,1,2,16,...|(16323,[0,1,2,16,...|\n",
      "|business|ba to suspend two...|suspend saudi ser...|  1.0|[suspend, saudi, ...|[suspend, saudi, ...|(16323,[0,6,14,24...|(16323,[0,6,14,24...|\n",
      "|business|bad weather hits ...|bad weather hit n...|  1.0|[bad, weather, hi...|[bad, weather, hi...|(16323,[0,1,11,16...|(16323,[0,1,11,16...|\n",
      "|business|bank holds intere...|bank hold rate ba...|  1.0|[bank, hold, rate...|[bank, hold, rate...|(16323,[0,1,2,4,7...|(16323,[0,1,2,4,7...|\n",
      "|business|bank opts to leav...|bank opt leav rat...|  1.0|[bank, opt, leav,...|[bank, opt, leav,...|(16323,[0,1,4,7,1...|(16323,[0,1,4,7,1...|\n",
      "|business|bank payout to pi...|bank payout pinoc...|  1.0|[bank, payout, pi...|[bank, payout, pi...|(16323,[0,2,3,6,1...|(16323,[0,2,3,6,1...|\n",
      "|business|bank set to leave...|bank set leav rat...|  1.0|[bank, set, leav,...|[bank, set, leav,...|(16323,[0,1,4,19,...|(16323,[0,1,4,19,...|\n",
      "|business|banker loses sexi...|banker lose sexis...|  1.0|[banker, lose, se...|[banker, lose, se...|(16323,[0,1,2,7,1...|(16323,[0,1,2,7,1...|\n",
      "+--------+--------------------+--------------------+-----+--------------------+--------------------+--------------------+--------------------+\n",
      "only showing top 20 rows\n",
      "\n"
     ]
    },
    {
     "name": "stderr",
     "output_type": "stream",
     "text": [
      "                                                                                \r"
     ]
    }
   ],
   "source": [
    "# ----------------------------> 特征工程方法选项\n",
    "#  processType = 'word2vec'\n",
    "processType = 'vectorize-idf'\n",
    "#  processType = 'tf-idf'\n",
    "\n",
    "# ----------------------------> 文本特征工程\n",
    "tokenizer = Tokenizer(inputCol='clean_text', outputCol='tokens')\n",
    "add_stopwords = [\"<br />\",\"amp\"]\n",
    "stopwords_remover = StopWordsRemover(inputCol='tokens', outputCol='filtered_tokens').setStopWords(add_stopwords)\n",
    "vectorizer = CountVectorizer(inputCol='filtered_tokens', outputCol='rawFeatures')\n",
    "hashingTF = HashingTF(inputCol=\"filtered_tokens\", outputCol=\"rawFeatures\")\n",
    "idf = IDF(inputCol='rawFeatures', outputCol='vectorizedFeatures')\n",
    "word2Vec = Word2Vec(vectorSize=50, minCount=2, inputCol=\"filtered_tokens\", outputCol=\"vectorizedFeatures\")\n",
    "if processType == 'word2vec':\n",
    "    pipeline = Pipeline(stages=[tokenizer,stopwords_remover,word2Vec])\n",
    "if processType == 'vectorize-idf':\n",
    "    pipeline = Pipeline(stages=[tokenizer,stopwords_remover,vectorizer,idf])\n",
    "if processType == 'tf-idf':\n",
    "    pipeline = Pipeline(stages=[tokenizer,stopwords_remover,hashingTF,idf])\n",
    "preprocessModel = pipeline.fit(trainDF)\n",
    "trainDF = preprocessModel.transform(trainDF)\n",
    "testDF = preprocessModel.transform(testDF)\n",
    "trainDF.show()"
   ]
  },
  {
   "cell_type": "markdown",
   "metadata": {},
   "source": [
    "## 训练模型\n",
    "\n",
    "我们首先使用简单模型进行拟合，在训练集上进行拟合，之后在测试集上验证模型的效果。"
   ]
  },
  {
   "cell_type": "code",
   "execution_count": 11,
   "metadata": {
    "tags": []
   },
   "outputs": [
    {
     "name": "stderr",
     "output_type": "stream",
     "text": [
      "22/01/23 17:21:38 WARN BLAS: Failed to load implementation from: com.github.fommil.netlib.NativeSystemBLAS\n",
      "22/01/23 17:21:38 WARN BLAS: Failed to load implementation from: com.github.fommil.netlib.NativeRefBLAS\n",
      "22/01/23 17:21:40 WARN DAGScheduler: Broadcasting large task binary with size 1119.0 KiB\n",
      "22/01/23 17:21:44 WARN DAGScheduler: Broadcasting large task binary with size 1134.3 KiB\n"
     ]
    },
    {
     "name": "stdout",
     "output_type": "stream",
     "text": [
      "+-----+----------+\n",
      "|label|prediction|\n",
      "+-----+----------+\n",
      "|  1.0|       1.0|\n",
      "|  1.0|       1.0|\n",
      "|  1.0|       1.0|\n",
      "|  1.0|       1.0|\n",
      "|  1.0|       1.0|\n",
      "|  1.0|       1.0|\n",
      "|  1.0|       1.0|\n",
      "|  1.0|       1.0|\n",
      "|  1.0|       3.0|\n",
      "|  1.0|       1.0|\n",
      "|  1.0|       1.0|\n",
      "|  1.0|       1.0|\n",
      "|  1.0|       1.0|\n",
      "|  1.0|       0.0|\n",
      "|  1.0|       1.0|\n",
      "|  1.0|       1.0|\n",
      "|  1.0|       1.0|\n",
      "|  1.0|       1.0|\n",
      "|  1.0|       1.0|\n",
      "|  1.0|       1.0|\n",
      "+-----+----------+\n",
      "only showing top 20 rows\n",
      "\n"
     ]
    },
    {
     "name": "stderr",
     "output_type": "stream",
     "text": [
      "[Stage 56:=============================>                            (1 + 1) / 2]\r"
     ]
    },
    {
     "name": "stdout",
     "output_type": "stream",
     "text": [
      "0.9674922600619195\n"
     ]
    },
    {
     "name": "stderr",
     "output_type": "stream",
     "text": [
      "                                                                                \r"
     ]
    }
   ],
   "source": [
    "lr = LogisticRegression(featuresCol='vectorizedFeatures',labelCol='label')\n",
    "lr_model = lr.fit(trainDF)\n",
    "prediction = lr_model.transform(testDF)\n",
    "prediction.select(['label', 'prediction']).show()\n",
    "evaluator = MulticlassClassificationEvaluator(labelCol='label',predictionCol='prediction',metricName='accuracy')\n",
    "accuracy = evaluator.evaluate(prediction)\n",
    "print(accuracy)"
   ]
  },
  {
   "cell_type": "markdown",
   "metadata": {},
   "source": [
    "## 模型预测\n",
    "\n",
    "我们查看模型在测试集的各个标签上的分类效果。"
   ]
  },
  {
   "cell_type": "code",
   "execution_count": 25,
   "metadata": {},
   "outputs": [
    {
     "name": "stderr",
     "output_type": "stream",
     "text": [
      "22/01/23 17:34:52 WARN DAGScheduler: Broadcasting large task binary with size 1142.2 KiB\n",
      "[Stage 126:>                                                        (0 + 1) / 1]\r"
     ]
    },
    {
     "name": "stdout",
     "output_type": "stream",
     "text": [
      "+--------+--------------------+--------------------+-----+--------------------+--------------------+--------------------+--------------------+--------------------+--------------------+----------+\n",
      "|category|                text|          clean_text|label|              tokens|     filtered_tokens|         rawFeatures|  vectorizedFeatures|       rawPrediction|         probability|prediction|\n",
      "+--------+--------------------+--------------------+-----+--------------------+--------------------+--------------------+--------------------+--------------------+--------------------+----------+\n",
      "|business|air china in $1bn...|air china london ...|  1.0|[air, china, lond...|[air, china, lond...|(16323,[0,1,2,6,1...|(16323,[0,1,2,6,1...|[-7.9734895718758...|[3.87609586794200...|       1.0|\n",
      "|business|air jamaica back ...|air jamaica state...|  1.0|[air, jamaica, st...|[air, jamaica, st...|(16323,[0,1,2,6,1...|(16323,[0,1,2,6,1...|[-1.5442891855729...|[7.77949156713072...|       1.0|\n",
      "|business|asia quake increa...|asia quak increas...|  1.0|[asia, quak, incr...|[asia, quak, incr...|(16323,[0,1,3,6,1...|(16323,[0,1,3,6,1...|[-8.4310761191567...|[8.82477646466887...|       1.0|\n",
      "|business|asia shares defy ...|asia share defi p...|  1.0|[asia, share, def...|[asia, share, def...|(16323,[0,1,3,4,6...|(16323,[0,1,3,4,6...|[-7.1034663453817...|[2.86064047994307...|       1.0|\n",
      "|business|asian quake hits ...|asian quak hit eu...|  1.0|[asian, quak, hit...|[asian, quak, hit...|(16323,[0,3,4,7,1...|(16323,[0,3,4,7,1...|[-8.2468702406980...|[2.71349204698639...|       1.0|\n",
      "+--------+--------------------+--------------------+-----+--------------------+--------------------+--------------------+--------------------+--------------------+--------------------+----------+\n",
      "only showing top 5 rows\n",
      "\n"
     ]
    },
    {
     "name": "stderr",
     "output_type": "stream",
     "text": [
      "                                                                                \r"
     ]
    }
   ],
   "source": [
    "prediction.filter(prediction['label'] == 1).show(5)"
   ]
  },
  {
   "cell_type": "code",
   "execution_count": 26,
   "metadata": {},
   "outputs": [
    {
     "name": "stderr",
     "output_type": "stream",
     "text": [
      "22/01/23 17:35:07 WARN DAGScheduler: Broadcasting large task binary with size 1142.2 KiB\n",
      "[Stage 127:>                                                        (0 + 1) / 1]\r"
     ]
    },
    {
     "name": "stdout",
     "output_type": "stream",
     "text": [
      "+--------+--------------------+--------------------+-----+--------------------+--------------------+--------------------+--------------------+--------------------+--------------------+----------+\n",
      "|category|                text|          clean_text|label|              tokens|     filtered_tokens|         rawFeatures|  vectorizedFeatures|       rawPrediction|         probability|prediction|\n",
      "+--------+--------------------+--------------------+-----+--------------------+--------------------+--------------------+--------------------+--------------------+--------------------+----------+\n",
      "|politics|abortion not a po...|abort poll issu b...|  2.0|[abort, poll, iss...|[abort, poll, iss...|(16323,[0,1,2,3,4...|(16323,[0,1,2,3,4...|[-7.3514325766039...|[3.21209534600921...|       2.0|\n",
      "|politics|best person  for ...|best person legal...|  2.0|[best, person, le...|[best, person, le...|(16323,[0,4,6,15,...|(16323,[0,4,6,15,...|[-6.0524384667112...|[3.00704234365893...|       2.0|\n",
      "|politics|blair and blunket...|blair blunkett sh...|  2.0|[blair, blunkett,...|[blair, blunkett,...|(16323,[0,2,6,7,1...|(16323,[0,2,6,7,1...|[-8.4765576928946...|[3.62024037544025...|       2.0|\n",
      "|politics|blair backs  pre-...|blair back pre el...|  2.0|[blair, back, pre...|[blair, back, pre...|(16323,[0,1,2,6,7...|(16323,[0,1,2,6,7...|[-5.7377483833425...|[2.13401594323517...|       2.0|\n",
      "|politics|blair labour s lo...|blair labour long...|  2.0|[blair, labour, l...|[blair, labour, l...|(16323,[0,1,4,15,...|(16323,[0,1,4,15,...|[-3.0548508351598...|[1.19209555596207...|       2.0|\n",
      "+--------+--------------------+--------------------+-----+--------------------+--------------------+--------------------+--------------------+--------------------+--------------------+----------+\n",
      "only showing top 5 rows\n",
      "\n"
     ]
    },
    {
     "name": "stderr",
     "output_type": "stream",
     "text": [
      "                                                                                \r"
     ]
    }
   ],
   "source": [
    "prediction.filter(prediction['label'] == 2).show(5)"
   ]
  },
  {
   "cell_type": "code",
   "execution_count": 27,
   "metadata": {},
   "outputs": [
    {
     "name": "stderr",
     "output_type": "stream",
     "text": [
      "22/01/23 17:35:34 WARN DAGScheduler: Broadcasting large task binary with size 1142.2 KiB\n",
      "[Stage 128:>                                                        (0 + 1) / 1]\r"
     ]
    },
    {
     "name": "stdout",
     "output_type": "stream",
     "text": [
      "+--------+--------------------+--------------------+-----+--------------------+--------------------+--------------------+--------------------+--------------------+--------------------+----------+\n",
      "|category|                text|          clean_text|label|              tokens|     filtered_tokens|         rawFeatures|  vectorizedFeatures|       rawPrediction|         probability|prediction|\n",
      "+--------+--------------------+--------------------+-----+--------------------+--------------------+--------------------+--------------------+--------------------+--------------------+----------+\n",
      "|    tech|a question of tru...|question trust te...|  3.0|[question, trust,...|[question, trust,...|(16323,[2,3,6,10,...|(16323,[2,3,6,10,...|[-5.0403722223419...|[1.08448188169849...|       2.0|\n",
      "|    tech|apple laptop is  ...|appl laptop great...|  3.0|[appl, laptop, gr...|[appl, laptop, gr...|(16323,[0,1,3,4,5...|(16323,[0,1,3,4,5...|[-6.4316175419554...|[5.72472283532587...|       3.0|\n",
      "|    tech|apple mac mini ge...|appl mac mini get...|  3.0|[appl, mac, mini,...|[appl, mac, mini,...|(16323,[0,1,2,3,4...|(16323,[0,1,2,3,4...|[-10.074864303343...|[4.36788523767884...|       3.0|\n",
      "|    tech|apple makes blogs...|appl make blog re...|  3.0|[appl, make, blog...|[appl, make, blog...|(16323,[0,2,3,6,1...|(16323,[0,2,3,6,1...|[-5.5578871724713...|[2.03606430824404...|       3.0|\n",
      "|    tech|apple unveils low...|appl unveil low c...|  3.0|[appl, unveil, lo...|[appl, unveil, lo...|(16323,[0,2,3,7,9...|(16323,[0,2,3,7,9...|[-4.0153797487905...|[9.07099696325347...|       3.0|\n",
      "+--------+--------------------+--------------------+-----+--------------------+--------------------+--------------------+--------------------+--------------------+--------------------+----------+\n",
      "only showing top 5 rows\n",
      "\n"
     ]
    },
    {
     "name": "stderr",
     "output_type": "stream",
     "text": [
      "                                                                                \r"
     ]
    }
   ],
   "source": [
    "prediction.filter(prediction['label'] == 3).show(5)"
   ]
  },
  {
   "cell_type": "markdown",
   "metadata": {},
   "source": [
    "## 模型比较\n",
    "\n",
    "我们还搭建了随机森林模型、梯度助推树模型、决策树模型。\n",
    "\n",
    "> 此处对计算性能要求较高，请提交至集群进行计算"
   ]
  },
  {
   "cell_type": "code",
   "execution_count": null,
   "metadata": {},
   "outputs": [],
   "source": [
    "def logisticCV(trainDF, testDF):\n",
    "    lr = LogisticRegression(featuresCol='vectorizedFeatures',labelCol='label')\n",
    "    model = lr.fit(trainDF)\n",
    "    prediction = model.transform(testDF)\n",
    "    evaluator = MulticlassClassificationEvaluator(labelCol='label',predictionCol='prediction',metricName='accuracy')\n",
    "    accuracy = evaluator.evaluate(prediction)\n",
    "    print('Accuracy of logistic regression: %g' % accuracy)\n",
    "\n",
    "def RandomForest(trainDF, testDF):\n",
    "    rf = RandomForestClassifier(featuresCol='vectorizedFeatures',labelCol='label')\n",
    "    model = rf.fit(trainDF)\n",
    "    prdiction = model.transform(testDF)\n",
    "    evaluator = MulticlassClassificationEvaluator(labelCol='label',predictionCol='prediction',metricName='accuracy')\n",
    "    accuracy = evaluator.evaluate(prediction)\n",
    "    print('Accuracy of random forest: %g' % accuracy)\n",
    "\n",
    "def GBT(trainDF, testDF):\n",
    "    gbt = GBTClassifier(featuresCol='vectorizedFeatures',labelCol='label')\n",
    "    model = gbt.fit(trainDF)\n",
    "    prdiction = model.transform(testDF)\n",
    "    evaluator = MulticlassClassificationEvaluator(labelCol='label',predictionCol='prediction',metricName='accuracy')\n",
    "    accuracy = evaluator.evaluate(prediction)\n",
    "    print('Accuracy of gbt: %g' % accuracy)\n",
    "\n",
    "def DecisionTree(trainDF, testDF):\n",
    "    dt = DecisionTreeClassifier(featuresCol='vectorizedFeatures',labelCol='label')\n",
    "    model = dt.fit(trainDF)\n",
    "    prdiction = model.transform(testDF)\n",
    "    evaluator = MulticlassClassificationEvaluator(labelCol='label',predictionCol='prediction',metricName='accuracy')\n",
    "    accuracy = evaluator.evaluate(prediction)\n",
    "    print('Accuracy of decision tree: %g' % accuracy)\n",
    "\n",
    "logisticCV(trainDF, testDF)\n",
    "RandomForest(trainDF, testDF)\n",
    "GBT(trainDF, testDF)\n",
    "DecisionTree(trainDF, testDF)"
   ]
  },
  {
   "cell_type": "markdown",
   "metadata": {},
   "source": [
    "## 模型调参\n",
    "\n",
    "我们使用网格搜索的方式对几个模型的超参数进行调整，选取最优的模型\n",
    "\n",
    "> 此处对计算性能要求较高，请提交至集群进行计算"
   ]
  },
  {
   "cell_type": "code",
   "execution_count": null,
   "metadata": {},
   "outputs": [],
   "source": [
    "def logisticCV(trainDF, testDF):\n",
    "    lr = LogisticRegression(featuresCol='vectorizedFeatures',labelCol='label')\n",
    "    pipeline = Pipeline(stages=[lr])\n",
    "    paramGrid = ParamGridBuilder() \\\n",
    "        .addGrid(lr.regParam, [0, 0.5, 2.0]) \\\n",
    "        .addGrid(lr.elasticNetParam, [0.0, 0.5, 1.0]) \\\n",
    "        .addGrid(lr.maxIter, [50, 100, 200]) \\\n",
    "        .build() \n",
    "    evaluator = MulticlassClassificationEvaluator(labelCol='label',predictionCol='prediction',metricName='accuracy')\n",
    "    crossValidator = CrossValidator(estimator=pipeline, \n",
    "                                    evaluator=evaluator,\n",
    "                                    estimatorParamMaps=paramGrid,\n",
    "                                    numFolds=5)\n",
    "    cv = crossValidator.fit(trainDF)\n",
    "    best_model = cv.bestModel.stages[0]\n",
    "    prediction = best_model.transform(testDF)\n",
    "    accuracy = evaluator.evaluate(prediction)\n",
    "    print('Accuracy in Cross Validation of logistic regression: %g' % accuracy)\n",
    "\n",
    "def RandomForestCV(trainDF, testDF):\n",
    "    rf = RandomForestClassifier(featuresCol='vectorizedFeatures',labelCol='label')\n",
    "    pipeline = Pipeline(stages=[rf])\n",
    "    paramGrid = ParamGridBuilder() \\\n",
    "        .addGrid(rf.maxDepth, [5, 10]) \\\n",
    "        .addGrid(rf.maxBins, [16, 32]) \\\n",
    "        .addGrid(rf.minInfoGain, [0, 0.01]) \\\n",
    "        .addGrid(rf.numTrees, [20, 60]) \\\n",
    "        .addGrid(rf.impurity, ['gini', 'entropy']) \\\n",
    "        .build() \n",
    "    evaluator = MulticlassClassificationEvaluator(labelCol='label',predictionCol='prediction',metricName='accuracy')\n",
    "    crossValidator = CrossValidator(estimator=pipeline, \n",
    "                                    evaluator=evaluator,\n",
    "                                    estimatorParamMaps=paramGrid,\n",
    "                                    numFolds=5)\n",
    "    cv = crossValidator.fit(trainDF)\n",
    "    best_model = cv.bestModel.stages[0]\n",
    "    prediction = best_model.transform(testDF)\n",
    "    accuracy = evaluator.evaluate(prediction)\n",
    "    print('Accuracy in Cross Validation of random forest: %g' % accuracy)\n",
    "\n",
    "def GBTClassifierCV(trainDF, testDF):\n",
    "    gbt = GBTClassifier(featuresCol='vectorizedFeatures',labelCol='label')\n",
    "    pipeline = Pipeline(stages=[gbt])\n",
    "    paramGrid = ParamGridBuilder() \\\n",
    "        .addGrid(gbt.maxDepth, [5, 10]) \\\n",
    "        .addGrid(gbt.maxBins, [16, 32]) \\\n",
    "        .addGrid(gbt.minInfoGain, [0, 0.01]) \\\n",
    "        .addGrid(gbt.maxIter, [10, 20]) \\\n",
    "        .addGrid(gbt.stepSize, [0.1, 0.2]) \\\n",
    "        .build() \n",
    "    evaluator = MulticlassClassificationEvaluator(labelCol='label',predictionCol='prediction',metricName='accuracy')\n",
    "    crossValidator = CrossValidator(estimator=pipeline, \n",
    "                                    evaluator=evaluator,\n",
    "                                    estimatorParamMaps=paramGrid,\n",
    "                                    numFolds=5)\n",
    "    cv = crossValidator.fit(trainDF)\n",
    "    best_model = cv.bestModel.stages[0]\n",
    "    prediction = best_model.transform(testDF)\n",
    "    accuracy = evaluator.evaluate(prediction)\n",
    "    print('Accuracy in Cross Validation of GBT: %g' % accuracy)\n",
    "\n",
    "def DecisionTreeCV(trainDF, testDF):\n",
    "    dt = DecisionTreeClassifier(featuresCol='vectorizedFeatures',labelCol='label')\n",
    "    pipeline = Pipeline(stages=[dt])\n",
    "    paramGrid = ParamGridBuilder() \\\n",
    "        .addGrid(dt.maxDepth, [5, 10]) \\\n",
    "        .addGrid(dt.maxBins, [16, 32]) \\\n",
    "        .addGrid(dt.minInfoGain, [0, 0.01]) \\\n",
    "        .addGrid(dt.minWeightFractionPerNode, [0, 0.5]) \\\n",
    "        .addGrid(dt.impurity, ['gini', 'entropy']) \\\n",
    "        .build() \n",
    "    evaluator = MulticlassClassificationEvaluator(labelCol='label',predictionCol='prediction',metricName='accuracy')\n",
    "    crossValidator = CrossValidator(estimator=pipeline, \n",
    "                                    evaluator=evaluator,\n",
    "                                    estimatorParamMaps=paramGrid,\n",
    "                                    numFolds=5)\n",
    "    cv = crossValidator.fit(trainDF)\n",
    "    best_model = cv.bestModel.stages[0]\n",
    "    prediction = best_model.transform(testDF)\n",
    "    accuracy = evaluator.evaluate(prediction)\n",
    "    print('Accuracy in Cross Validation of GBT: %g' % accuracy)\n",
    "\n",
    "logisticCV(trainDF, testDF)\n",
    "RandomForestCV(trainDF, testDF)\n",
    "GBTClassifierCV(trainDF, testDF)\n",
    "DecisionTreeCV(trainDF, testDF)"
   ]
  },
  {
   "cell_type": "markdown",
   "metadata": {},
   "source": [
    "# 参考文献\n",
    "\n",
    "- [Decoupled Weight Decay Regularization](https://arxiv.org/abs/1711.05101)\n",
    "- [BBERT: Pre-training of Deep Bidirectional Transformers for Language UnderstandingERT](https://arxiv.org/abs/1810.04805)"
   ]
  }
 ],
 "metadata": {
  "colab": {
   "collapsed_sections": [],
   "name": "classify_text_with_bert.ipynb",
   "provenance": [],
   "toc_visible": true
  },
  "kernelspec": {
   "display_name": "Python 3 (ipykernel)",
   "language": "python",
   "name": "python3"
  },
  "language_info": {
   "codemirror_mode": {
    "name": "ipython",
    "version": 3
   },
   "file_extension": ".py",
   "mimetype": "text/x-python",
   "name": "python",
   "nbconvert_exporter": "python",
   "pygments_lexer": "ipython3",
   "version": "3.9.7"
  },
  "toc-autonumbering": true,
  "toc-showcode": false,
  "toc-showmarkdowntxt": false,
  "toc-showtags": false
 },
 "nbformat": 4,
 "nbformat_minor": 4
}
